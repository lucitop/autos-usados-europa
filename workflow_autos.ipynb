{
  "cells": [
    {
      "cell_type": "markdown",
      "metadata": {
        "id": "-bCAqGJjyjy4"
      },
      "source": [
        "### Objetivo general del análisis\n",
        "\n",
        "El objetivo principal de este proyecto es utilizar las herramientas que ofrece la ciencia de datos provistas para:\n",
        "\n",
        "- Analizar como se establece la oferta de vehículos usados en Europa.\n",
        "- Investigar y representar vínculos significativos entre variables como potencia, kilometraje, año y precio.\n",
        "- Identificar tendencias del mercado y posibles segmentos de automóviles (clusterización).\n",
        "- Elaborar modelos de predicción de precios utilizando métodos supervisados (regresión lineal, árboles de decisión, entre otros).\n",
        "- Implementar principios de éticos y de gobernanza en la gestión del dataset y transmitir los descubrimientos de manera visual y entendible.\n"
      ]
    },
    {
      "cell_type": "code",
      "execution_count": null,
      "metadata": {
        "colab": {
          "base_uri": "https://localhost:8080/"
        },
        "id": "v3IIX1_v0FMV",
        "outputId": "10ed73b1-5d81-4d3b-aaf5-c87454614947"
      },
      "outputs": [],
      "source": [
        "# Importamos librerías\n",
        "import pandas as pd\n",
        "import numpy as np\n",
        "\n",
        "# Ignorar warnings\n",
        "import warnings\n",
        "warnings.filterwarnings('ignore')\n",
        "\n",
        "\n",
        "# Cargamos el CSV\n",
        "ruta_csv = \"data/raw_vehicle_dataset.csv\"\n",
        "df = pd.read_csv(ruta_csv)\n"
      ]
    },
    {
      "cell_type": "code",
      "execution_count": null,
      "metadata": {
        "colab": {
          "base_uri": "https://localhost:8080/",
          "height": 621
        },
        "id": "mpx8US0l_rzQ",
        "outputId": "6462ba00-9ca0-45f7-ce45-032814781c3c"
      },
      "outputs": [],
      "source": [
        "# Damos un primer vistazo al dataset\n",
        "print(\"Dimensiones del dataset:\", df.shape)\n",
        "print(\"\\nTipos de datos:\")\n",
        "print(df.dtypes)\n",
        "print(\"\\nPrimeras filas:\")\n",
        "display(df.head())"
      ]
    },
    {
      "cell_type": "code",
      "execution_count": null,
      "metadata": {
        "colab": {
          "base_uri": "https://localhost:8080/"
        },
        "id": "X9IyQazu0gsM",
        "outputId": "aa28dbb5-05c5-49d1-b04b-dc586571d9f4"
      },
      "outputs": [],
      "source": [
        "# Vemos la información general del dataset\n",
        "print(\"\\nInformación general:\")\n",
        "df.info()\n"
      ]
    },
    {
      "cell_type": "code",
      "execution_count": null,
      "metadata": {
        "colab": {
          "base_uri": "https://localhost:8080/"
        },
        "id": "ycgsI4Qr0tmo",
        "outputId": "cbb0f0af-a2f5-41fc-dc0e-3f5ae7053d2d"
      },
      "outputs": [],
      "source": [
        "# Observamos los valores faltantes por columna\n",
        "print(\"\\nValores faltantes por columna:\")\n",
        "print(df.isnull().sum())\n",
        "\n",
        "# Observamos el porcentaje de valores faltantes\n",
        "print(\"\\nPorcentaje de valores faltantes:\")\n",
        "print((df.isnull().sum() / len(df) * 100).round(2))\n"
      ]
    },
    {
      "cell_type": "markdown",
      "metadata": {
        "id": "_Rwj0a9B1RzZ"
      },
      "source": [
        "### 2.2 Limpieza y curación de datos\n",
        "\n",
        "El dataset presenta 3.552.912 registros y 16 columnas, con múltiples variables numéricas y categóricas. La mayoría son datos estructurados, aunque algunas columnas presentan una cantidad significativa de valores faltantes."
      ]
    },
    {
      "cell_type": "code",
      "execution_count": null,
      "metadata": {
        "collapsed": true,
        "id": "kLeN38gS0u8V"
      },
      "outputs": [],
      "source": [
        "# Eliminamos columnas con gran cantidad de valores nulos\n",
        "cols_a_eliminar = [\"color_slug\", \"stk_year\"]\n",
        "df.drop(columns=cols_a_eliminar, inplace=True)\n"
      ]
    },
    {
      "cell_type": "code",
      "execution_count": null,
      "metadata": {
        "id": "rgySj8GG1av9"
      },
      "outputs": [],
      "source": [
        "# Convertimos fechas a datetime\n",
        "df[\"date_created\"] = pd.to_datetime(df[\"date_created\"], errors=\"coerce\")\n",
        "df[\"date_last_seen\"] = pd.to_datetime(df[\"date_last_seen\"], errors=\"coerce\")\n",
        "\n",
        "# Convertimos columnas float a enteros donde corresponde (manteniendo nulos)\n",
        "df[\"door_count\"] = df[\"door_count\"].astype(\"Int64\")\n",
        "df[\"seat_count\"] = df[\"seat_count\"].astype(\"Int64\")\n"
      ]
    },
    {
      "cell_type": "code",
      "execution_count": null,
      "metadata": {
        "id": "vztPw9RC1a-O"
      },
      "outputs": [],
      "source": [
        "# Normalizamos el texto\n",
        "for col in [\"maker\", \"model\", \"transmission\", \"fuel_type\", \"body_type\"]:\n",
        "    df[col] = df[col].astype(str).str.strip().str.lower().replace(\"nan\", np.nan)\n"
      ]
    },
    {
      "cell_type": "code",
      "execution_count": null,
      "metadata": {
        "id": "FW8vEXbS1bNk"
      },
      "outputs": [],
      "source": [
        "# Eliminamos duplicados antes de imputar para no procesar datos redundantes\n",
        "df.drop_duplicates(inplace=True)\n",
        "\n",
        "# Eliminamos filas sin marca o modelo (no pueden ser interpretadas)\n",
        "df.dropna(subset=[\"maker\", \"model\"], inplace=True)\n"
      ]
    },
    {
      "cell_type": "code",
      "execution_count": null,
      "metadata": {
        "colab": {
          "base_uri": "https://localhost:8080/"
        },
        "id": "HxwyBW2k1k-P",
        "outputId": "912a4658-c739-44e3-a8e5-ff310a1e2ad8"
      },
      "outputs": [],
      "source": [
        "# Imputamos con mediana\n",
        "df[\"mileage\"].fillna(df[\"mileage\"].median(), inplace=True)\n",
        "df[\"manufacture_year\"].fillna(df[\"manufacture_year\"].median(), inplace=True)\n",
        "df[\"engine_power\"].fillna(df[\"engine_power\"].median(), inplace=True)\n",
        "df[\"engine_displacement\"].fillna(df[\"engine_displacement\"].median(), inplace=True)\n"
      ]
    },
    {
      "cell_type": "code",
      "execution_count": null,
      "metadata": {
        "colab": {
          "base_uri": "https://localhost:8080/"
        },
        "id": "NsWFSp_y1mhf",
        "outputId": "314ed991-81c3-4571-e715-22a1aef094f8"
      },
      "outputs": [],
      "source": [
        "# Imputamos con moda\n",
        "df[\"transmission\"].fillna(df[\"transmission\"].mode()[0], inplace=True)\n",
        "df[\"fuel_type\"].fillna(df[\"fuel_type\"].mode()[0], inplace=True)\n",
        "df[\"door_count\"].fillna(df[\"door_count\"].mode()[0], inplace=True)\n",
        "df[\"seat_count\"].fillna(df[\"seat_count\"].mode()[0], inplace=True)\n"
      ]
    },
    {
      "cell_type": "code",
      "execution_count": null,
      "metadata": {
        "colab": {
          "base_uri": "https://localhost:8080/"
        },
        "id": "IdV9kUbT1oGC",
        "outputId": "11ab903a-091e-4110-c90c-29fb6aa6efdb"
      },
      "outputs": [],
      "source": [
        "# Imputamos body_type como categoría \"unknown\"\n",
        "df[\"body_type\"].fillna(\"unknown\", inplace=True)\n"
      ]
    },
    {
      "cell_type": "markdown",
      "metadata": {
        "id": "QuF2OvMu2UQD"
      },
      "source": [
        "### Verificación final del dataset tras la limpieza\n",
        "\n",
        "- Se eliminaron las columnas con gran cantidad de valores faltantes y bajo valor informativo (`color_slug`, `stk_year`).\n",
        "- La columna `body_type`, aunque presentaba una cantidad considerable de datos faltantes, fue conservada por su posible relevancia económica y se imputó con la categoría `\"unknown\"` para preservar la estructura sin inducir sesgos.\n",
        "- Las variables numéricas `engine_power` y `engine_displacement`, que también presentaban una proporción significativa de valores faltantes, fueron imputadas mediante su mediana, con el objetivo de mantenerlas disponibles para el análisis predictivo sin introducir distorsiones excesivas.\n",
        "- Se convirtieron correctamente las variables de fecha (`date_created`, `date_last_seen`) al tipo `datetime`.\n",
        "- Se ajustaron los tipos de datos de `door_count` y `seat_count` a enteros con soporte para nulos (`Int64`).\n",
        "- Se imputaron valores faltantes en variables clave usando la mediana para variables numéricas y la moda para variables categóricas o discretas, según correspondiera.\n",
        "- Se estandarizaron los formatos de texto para las variables categóricas (`maker`, `model`, `transmission`, `fuel_type`).\n",
        "- Se eliminaron registros duplicados completos.\n",
        "- Se eliminaron registros sin información de `maker` o `model`, ya que son esenciales para el análisis.\n",
        "\n",
        "> ### Nota desde el futuro:\n",
        "`body_type` nos generará problemas debido a que no solo tiene muchos valores faltantes, sino que dentro de los valores presentes la mayoría es constituida por \"other\" por lo que deja de ofrecer información objetiva y será eliminada del dataset en una celda futura.\n",
        "\n"
      ]
    },
    {
      "cell_type": "code",
      "execution_count": null,
      "metadata": {
        "colab": {
          "base_uri": "https://localhost:8080/",
          "height": 960
        },
        "id": "2UpYb4Gi17NB",
        "outputId": "642296a2-c3dc-4491-86e8-e8903885b7c2"
      },
      "outputs": [],
      "source": [
        "print(\" Dimensiones finales del dataset:\", df.shape)\n",
        "\n",
        "# Verifcamos los tipos de datos\n",
        "print(\"\\n Tipos de datos finales:\")\n",
        "print(df.dtypes)\n",
        "\n",
        "# Verificamos de valores nulos restantes\n",
        "print(\"\\n Valores faltantes por columna (deberían ser 0 o mínimos):\")\n",
        "print(df.isnull().sum())\n",
        "\n",
        "# Verificamos duplicados\n",
        "print(\"\\n Registros duplicados restantes:\")\n",
        "print(df.duplicated().sum())\n",
        "\n",
        "# Damos una vista rápida final\n",
        "print(\"\\n Primeras filas del DataFrame limpio:\")\n",
        "display(df.head())\n"
      ]
    },
    {
      "cell_type": "markdown",
      "metadata": {
        "id": "yAAgR28E29Le"
      },
      "source": [
        "## 3. Análisis exploratorio y visualización\n",
        "\n",
        "En esta sección se realiza un análisis exploratorio de datos (EDA), con el objetivo de identificar patrones, distribuciones, relaciones y posibles anomalías en el dataset. La exploración se apoya en técnicas de visualización para facilitar la interpretación de los datos y sentar las bases del modelado posterior."
      ]
    },
    {
      "cell_type": "code",
      "execution_count": null,
      "metadata": {
        "id": "uP_6OxBo2Jdw"
      },
      "outputs": [],
      "source": [
        "import matplotlib.pyplot as plt\n",
        "import seaborn as sns\n",
        "import plotly.express as px\n",
        "\n",
        "# Seteamos la configuración estética general para los gráficos con seaborn y matplotlib\n",
        "sns.set(style=\"whitegrid\")\n",
        "plt.rcParams[\"figure.figsize\"] = (10, 5)\n"
      ]
    },
    {
      "cell_type": "code",
      "execution_count": null,
      "metadata": {
        "colab": {
          "base_uri": "https://localhost:8080/",
          "height": 1000
        },
        "id": "BofKM1lb3Ngv",
        "outputId": "8e7739ea-cbdb-4fcd-9ac4-46908c2fa345"
      },
      "outputs": [],
      "source": [
        "# Graficamos las distribuciones para las variables numéricas del dataset completo\n",
        "numericas = [\"price_eur\", \"mileage\", \"engine_power\", \"engine_displacement\", \"manufacture_year\"]\n",
        "\n",
        "for col in numericas:\n",
        "    plt.figure()\n",
        "    sns.histplot(data=df, x=col, kde=True, bins=50)\n",
        "    plt.title(f\"Distribución de {col}\")\n",
        "    plt.xlabel(col)\n",
        "    plt.ylabel(\"Frecuencia\")\n",
        "    plt.tight_layout()\n",
        "    plt.show()\n"
      ]
    },
    {
      "cell_type": "markdown",
      "metadata": {
        "id": "hNaLndA_39n-"
      },
      "source": [
        "###  Filtrado de outliers extremos para visualización\n",
        "\n",
        "Se identificaron valores atípicos en variables como `price_eur`, `mileage`, `engine_displacement` y `manufacture_year` que distorsionan las visualizaciones. Por ello, se construye una copia filtrada del dataset (`df_vis`) para generar gráficos más representativos del mercado real.\n"
      ]
    },
    {
      "cell_type": "code",
      "execution_count": null,
      "metadata": {
        "colab": {
          "base_uri": "https://localhost:8080/"
        },
        "id": "u127QJcs3-w_",
        "outputId": "5eba21a0-1d35-4e05-d9a9-fefce65c43e9"
      },
      "outputs": [],
      "source": [
        "# Creamos una copia del dataframe original para visualización (sin modificar df)\n",
        "df_vis = df.copy()\n",
        "\n",
        "# Filtramos precios extremos fuera del rango realista para autos usados (ej: >150.000 EUR)\n",
        "df_vis = df_vis[df_vis[\"price_eur\"].between(500, 150000)]\n",
        "\n",
        "# Limpiamos valores de kilometraje absurdamente altos (> 1 millón de km)\n",
        "df_vis = df_vis[df_vis[\"mileage\"] < 1_000_000]\n",
        "\n",
        "# Eliminamos autos con cilindrada superior a 10.000 cc (poco probable en autos comerciales)\n",
        "df_vis = df_vis[df_vis[\"engine_displacement\"] < 10000]\n",
        "\n",
        "# Eliminamos autos anteriores a 1980 (pocos registros, posible error de carga o antigüedades)\n",
        "df_vis = df_vis[df_vis[\"manufacture_year\"] >= 1980]\n",
        "\n",
        "# Mostramos cuántos registros quedaron para las visualizaciones\n",
        "print(\"Cantidad de registros tras filtrado para visualización:\", df_vis.shape)\n"
      ]
    },
    {
      "cell_type": "code",
      "execution_count": null,
      "metadata": {
        "colab": {
          "base_uri": "https://localhost:8080/",
          "height": 1000
        },
        "id": "-gnGz9Ig4ECS",
        "outputId": "60438de9-5a7a-43ee-b4a2-7dfab07be48d"
      },
      "outputs": [],
      "source": [
        "# Graficamos las distribuciones univariadas tras el filtrado (df_vis) para un análisis más prolijo\n",
        "numericas = [\"price_eur\", \"mileage\", \"engine_power\", \"engine_displacement\", \"manufacture_year\"]\n",
        "\n",
        "for col in numericas:\n",
        "    plt.figure()\n",
        "    sns.histplot(data=df_vis, x=col, kde=True, bins=50)\n",
        "    plt.title(f\"Distribución de {col}\")\n",
        "    plt.xlabel(col)\n",
        "    plt.ylabel(\"Frecuencia\")\n",
        "    plt.tight_layout()\n",
        "    plt.show()\n"
      ]
    },
    {
      "cell_type": "markdown",
      "metadata": {
        "id": "fMXvihACVZe0"
      },
      "source": [
        "> Los gráficos muestran la distribución individual de las principales variables numéricas del dataset. Se observa una fuerte asimetría a la derecha en `price_eur`, `mileage` y `engine_power`, indicando que la mayoría de los vehículos se concentran en valores bajos, con algunos casos extremos que elevan los máximos. Por su parte, `manufacture_year` muestra una clara concentración de vehículos producidos entre 2005 y 2016, con picos que podrían asociarse a políticas de renovación o tendencias de ventas\n"
      ]
    },
    {
      "cell_type": "code",
      "execution_count": null,
      "metadata": {
        "id": "c49jdZ533Ozy"
      },
      "outputs": [],
      "source": [
        "# Definimos una función para graficar variables categóricas ordenadas por frecuencia\n",
        "def plot_categorical(col, top_n=None):\n",
        "    plt.figure()\n",
        "    order = df[col].value_counts().head(top_n).index if top_n else df[col].value_counts().index\n",
        "    sns.countplot(data=df, x=col, order=order)\n",
        "    plt.title(f\"Distribución de {col}\")\n",
        "    plt.xticks(rotation=45)\n",
        "    plt.xlabel(col)\n",
        "    plt.ylabel(\"Cantidad\")\n",
        "    plt.tight_layout()\n",
        "    plt.show()\n"
      ]
    },
    {
      "cell_type": "code",
      "execution_count": null,
      "metadata": {
        "colab": {
          "base_uri": "https://localhost:8080/",
          "height": 1000
        },
        "id": "ArFOfN8z3QdV",
        "outputId": "99198797-102f-4135-eec6-27e659ab4ce0"
      },
      "outputs": [],
      "source": [
        "# Creamos una lista con las variables categóricas\n",
        "categoricas = [\"fuel_type\", \"transmission\", \"door_count\", \"seat_count\", \"body_type\"]\n",
        "for col in categoricas:\n",
        "    plot_categorical(col)\n",
        "\n",
        "# Creamos un gráfico especial para las top 10 marcas más frecuentes\n",
        "plot_categorical(\"maker\", top_n=10)\n"
      ]
    },
    {
      "cell_type": "markdown",
      "metadata": {
        "id": "FqcpXV7EWAHb"
      },
      "source": [
        "> Se observa que la gran mayoría de los vehículos utilizan gasolina y son manuales, lo que refleja un perfil técnico dominante en el mercado. En cuanto al número de puertas y asientos, 5 puertas y 5 asientos es lo más frecuente, lo que sugiere una prevalencia de autos familiares o utilitarios. En la variable `body_type`, la categoría other domina por sobre el resto, seguida de un alto porcentaje de valores unknown, lo que nos lleva a tomar la decisión de descartar esta variable del análisis. Finalmente, en cuanto a las marcas, Skoda y Volkswage lideran ampliamente el mercado.\n"
      ]
    },
    {
      "cell_type": "markdown",
      "metadata": {
        "id": "3ugB4vRVroEe"
      },
      "source": [
        "### Eliminación de la variable `body_type`\n",
        "\n",
        "Si bien inicialmente se imputaron los valores faltantes de `body_type` con la categoría `\"unknown\"`, el análisis posterior mostró que más del 90% de los registros se concentraban en las categorías `\"other\"` y `\"unknown\"`, con muy poca representatividad de los tipos reales de carrocería. Esto se observa claramente en el gráfico de barras provisto. Debido a la escasa utilidad explicativa y el riesgo de introducir ruido o sesgos, se decidió eliminar esta variable del análisis y modelado final.\n"
      ]
    },
    {
      "cell_type": "code",
      "execution_count": null,
      "metadata": {
        "id": "hJsPelIWvR9G"
      },
      "outputs": [],
      "source": [
        "# Eliminamos la variable body_type por baja utilidad analítica\n",
        "df.drop(columns=[\"body_type\"], inplace=True)"
      ]
    },
    {
      "cell_type": "code",
      "execution_count": null,
      "metadata": {
        "id": "dvwHzIZPvVXQ"
      },
      "outputs": [],
      "source": [
        "# Exportamos la versión final del dataset limpio\n",
        "df.to_csv(\"data/clean_vehicle_dataset.csv\", index=False)\n"
      ]
    },
    {
      "cell_type": "markdown",
      "metadata": {
        "id": "SehVGUqW4itX"
      },
      "source": [
        "## 3.2 Relaciones entre variables\n",
        "\n",
        "En esta sección se analiza la relación entre variables clave del dataset. Se utilizan gráficos de dispersión para visualizar relaciones entre variables numéricas, boxplots para comparar variables numéricas por categoría, y un mapa de calor para detectar correlaciones lineales entre variables cuantitativas.\n"
      ]
    },
    {
      "cell_type": "code",
      "execution_count": null,
      "metadata": {
        "colab": {
          "base_uri": "https://localhost:8080/",
          "height": 1000
        },
        "id": "Z2OX1Gjy3RqW",
        "outputId": "b8f027fc-92ba-4376-efb0-10001a9ba202"
      },
      "outputs": [],
      "source": [
        "# Graficamos las relaciones entre variables numéricas clave\n",
        "sns.pairplot(data=df_vis, vars=[\"price_eur\", \"mileage\", \"engine_power\", \"engine_displacement\"], plot_kws={\"alpha\":0.3})\n",
        "plt.suptitle(\"Relaciones entre variables numéricas\", y=1.02)\n",
        "plt.show()\n"
      ]
    },
    {
      "cell_type": "markdown",
      "metadata": {
        "id": "TI1IHDZgU5JF"
      },
      "source": [
        "> Este gráfico permite observar la relación entre variables clave como precio, kilometraje, potencia y cilindrada. Se destaca una relación inversa entre `price_eur` y `mileage`, así como una correlación positiva entre `engine_power` y `engine_displacement`."
      ]
    },
    {
      "cell_type": "code",
      "execution_count": null,
      "metadata": {
        "colab": {
          "base_uri": "https://localhost:8080/",
          "height": 496
        },
        "id": "rn-V2CTw4lmo",
        "outputId": "10721744-7f85-442e-e3f7-a6ff206ce1b6"
      },
      "outputs": [],
      "source": [
        "# Graficamos precio vs kilometraje\n",
        "sns.scatterplot(data=df_vis, x=\"mileage\", y=\"price_eur\", alpha=0.3)\n",
        "plt.title(\"Precio vs Kilometraje\")\n",
        "plt.show()\n"
      ]
    },
    {
      "cell_type": "markdown",
      "metadata": {
        "id": "YjZMkN_uVK8y"
      },
      "source": [
        "> Se observa una clara relación negativa: a mayor kilometraje, menor es el precio del vehículo. Esta tendencia refuerza la idea de que el desgaste del auto es un determinante clave del valor de reventa."
      ]
    },
    {
      "cell_type": "code",
      "execution_count": null,
      "metadata": {
        "colab": {
          "base_uri": "https://localhost:8080/",
          "height": 1000
        },
        "id": "JsvRjTgm4q1K",
        "outputId": "42d2203a-c32a-434b-8af1-59d56d429169"
      },
      "outputs": [],
      "source": [
        "# Graficamos precio según tipo de combustible\n",
        "plt.figure()\n",
        "sns.boxplot(data=df_vis, x=\"fuel_type\", y=\"price_eur\")\n",
        "plt.title(\"Precio según tipo de combustible\")\n",
        "plt.xticks(rotation=45)\n",
        "plt.show()\n",
        "\n",
        "# Graficamos precio según tipo de transmisión\n",
        "plt.figure()\n",
        "sns.boxplot(data=df_vis, x=\"transmission\", y=\"price_eur\")\n",
        "plt.title(\"Precio según tipo de transmisión\")\n",
        "plt.show()\n"
      ]
    },
    {
      "cell_type": "markdown",
      "metadata": {
        "id": "jWU4dFB0VNqL"
      },
      "source": [
        "> Los vehículos diésel y gasolina tienen precios similares, aunque los diésel muestran una mayor dispersión. El resto de los combustibles alternativos (lpg, cng, electric) presentan menor representación y precios más bajos en promedio.\n",
        ">\n",
        "> Los autos con transmisión automática tienden a tener precios más altos y mayor dispersión que los manuales. Esto puede deberse a que los automáticos suelen asociarse a modelos más nuevos o de gama más alta."
      ]
    },
    {
      "cell_type": "code",
      "execution_count": null,
      "metadata": {
        "colab": {
          "base_uri": "https://localhost:8080/",
          "height": 697
        },
        "id": "iZALB2PW4rth",
        "outputId": "1125e5f7-db81-4862-f327-2ed3bf3a4b2f"
      },
      "outputs": [],
      "source": [
        "# Graficamos el mapa de correlación entre numéricas\n",
        "corr = df_vis[[\"price_eur\", \"mileage\", \"engine_power\", \"engine_displacement\", \"manufacture_year\"]].corr()\n",
        "\n",
        "plt.figure(figsize=(8,6))\n",
        "sns.heatmap(corr, annot=True, cmap=\"coolwarm\", fmt=\".2f\")\n",
        "plt.title(\"Matriz de correlación entre variables numéricas\")\n",
        "plt.show()\n"
      ]
    },
    {
      "cell_type": "markdown",
      "metadata": {
        "id": "04g3TXMF548f"
      },
      "source": [
        "### 3.2 Análisis e interpretación de relaciones entre variables\n",
        "\n",
        "A partir de los gráficos generados, se destacan los siguientes patrones:\n",
        "\n",
        "- **Precio vs. Kilometraje**: se observa una clara relación negativa. A mayor kilometraje, menor precio. Esto es coherente con la depreciación natural del valor del vehículo por uso.\n",
        "\n",
        "- **Precio vs. Potencia (`engine_power`)**: la correlación positiva indica que los autos más potentes tienden a tener mayor precio. La relación es visible pero no lineal.\n",
        "  \n",
        "- **Potencia vs. Cilindrada**: la correlación es muy alta (~0.73), lo que indica una fuerte relación entre ambas variables técnicas del motor.\n",
        "  \n",
        "- **Boxplot por tipo de combustible**: los vehículos diésel y gasolina dominan el mercado. El precio es más alto en general en ambos, mientras que GNC, GLP y eléctricos están subrepresentados (posiblemente outliers o mal cargados).\n",
        "\n",
        "- **Boxplot por tipo de transmisión**: los vehículos con transmisión automática (`auto`) tienen, en promedio, un precio significativamente más alto que los manuales (`man`). Esto puede deberse a su asociación con gamas más altas o vehículos de lujo, además de un mercado más reducido.\n",
        "\n",
        "\n",
        "- **Año de fabricación** tiene correlación positiva con el precio: autos más nuevos → precios más altos, como era de esperarse.\n",
        "\n",
        "- **Mapa de correlaciones**:\n",
        "  - `price_eur` tiene correlación:\n",
        "    - Negativa con `mileage` (-0.44)\n",
        "    - Positiva con `engine_power` (0.57)\n",
        "    - Positiva con `manufacture_year` (0.43)\n",
        "  - Cabe destacar que las correlaciones no son perfectas, lo que indica que el precio está influido por múltiples factores combinados.\n"
      ]
    },
    {
      "cell_type": "markdown",
      "metadata": {
        "id": "DhdpnNS76kqv"
      },
      "source": [
        "## 3.3 Comparaciones por categorías\n",
        "\n",
        "Se comparan precios y otras variables según distintas categorías relevantes. Estas comparaciones permiten identificar diferencias en el valor del vehículo según características técnicas y comerciales. Se utilizan principalmente boxplots y gráficos de barras agrupados.\n"
      ]
    },
    {
      "cell_type": "code",
      "execution_count": null,
      "metadata": {
        "colab": {
          "base_uri": "https://localhost:8080/",
          "height": 496
        },
        "id": "-GiiK9-d4sht",
        "outputId": "8a40b494-7bd2-4ddf-ee2b-ed7789722c4c"
      },
      "outputs": [],
      "source": [
        "# Graficamos el precio según cantidad de puertas\n",
        "plt.figure()\n",
        "sns.boxplot(data=df_vis, x=\"door_count\", y=\"price_eur\")\n",
        "plt.title(\"Precio según cantidad de puertas\")\n",
        "plt.xlabel(\"Cantidad de puertas\")\n",
        "plt.ylabel(\"Precio (€)\")\n",
        "plt.show()\n"
      ]
    },
    {
      "cell_type": "code",
      "execution_count": null,
      "metadata": {
        "id": "ozd8IqMD56k6"
      },
      "outputs": [],
      "source": [
        "# Calculamos el precio promedio por marca y ordenar de forma descendente\n",
        "top_makers = df_vis[\"maker\"].value_counts().head(10).index\n",
        "avg_price_by_maker = df_vis[df_vis[\"maker\"].isin(top_makers)].groupby(\"maker\")[\"price_eur\"].mean().sort_values(ascending=False)\n"
      ]
    },
    {
      "cell_type": "code",
      "execution_count": null,
      "metadata": {
        "colab": {
          "base_uri": "https://localhost:8080/",
          "height": 555
        },
        "id": "4gxybdy-6nQ6",
        "outputId": "4affc880-b247-4742-cb1b-15a33dd2f1bf"
      },
      "outputs": [],
      "source": [
        "# Graficamos el precio promedio por marca (top 10)\n",
        "plt.figure()\n",
        "sns.barplot(x=avg_price_by_maker.index, y=avg_price_by_maker.values)\n",
        "plt.title(\"Precio promedio por marca (top 10)\")\n",
        "plt.ylabel(\"Precio promedio (€)\")\n",
        "plt.xticks(rotation=45)\n",
        "plt.show()\n"
      ]
    },
    {
      "cell_type": "code",
      "execution_count": null,
      "metadata": {
        "id": "pIfsiDN957qa"
      },
      "outputs": [],
      "source": [
        "# Agrupamos por marca y transmisión (solo top 5 marcas para que no sea ilegible)\n",
        "top_5_makers = df_vis[\"maker\"].value_counts().head(5).index\n",
        "grouped = df_vis[df_vis[\"maker\"].isin(top_5_makers)].groupby([\"maker\", \"transmission\"])[\"price_eur\"].mean().reset_index()"
      ]
    },
    {
      "cell_type": "code",
      "execution_count": null,
      "metadata": {
        "colab": {
          "base_uri": "https://localhost:8080/",
          "height": 496
        },
        "id": "glHYLhFA6oF6",
        "outputId": "901f97b0-64fb-448a-cc95-3521d7fa0bb1"
      },
      "outputs": [],
      "source": [
        "# Graficamos el precio promedio por marca y tipo de transmisión\n",
        "plt.figure()\n",
        "sns.barplot(data=grouped, x=\"maker\", y=\"price_eur\", hue=\"transmission\")\n",
        "plt.title(\"Precio promedio por marca y tipo de transmisión\")\n",
        "plt.ylabel(\"Precio (€)\")\n",
        "plt.show()\n"
      ]
    },
    {
      "cell_type": "markdown",
      "metadata": {
        "id": "t-Yr9zRk7DIe"
      },
      "source": [
        "### 3.3 Comparaciones por categorías\n",
        "\n",
        "Se analizaron los precios de los vehículos en función de distintas variables categóricas y discretas. A continuación se presentan los hallazgos más relevantes:\n",
        "\n",
        "- **Precio según cantidad de puertas (`door_count`)**: el valor más frecuente es de 3 a 5 puertas, que concentra la mayoría del parque automotor. Hay algunos valores extremos atípicos (22, 45, etc.) que probablemente correspondan a errores de carga o a otro tipo de vehículos (ej. colectivos, buses). El precio no varía significativamente entre 3, 4 y 5 puertas.\n",
        "\n",
        "- **Precio según cantidad de asientos (`seat_count`)**: la mayoría de los autos tienen entre 4 y 7 asientos. A mayor número de asientos, especialmente en configuraciones de 8 a 10, se observan precios más altos, lo cual puede relacionarse con vehículos familiares, utilitarios o de transporte comercial.\n",
        "\n",
        "- **Precio promedio por marca (`maker`)**: entre las 10 marcas más frecuentes, se destaca **Audi** con un precio promedio muy superior, lo cual refleja su posicionamiento premium. Le siguen Volkswagen, Seat y Ford. Skoda, Renault y Peugeot presentan precios más accesibles.\n",
        "\n",
        "- **Precio promedio por marca y transmisión**: en todas las marcas analizadas (top 5), los vehículos con transmisión automática son consistentemente más caros que los manuales. Este patrón es más marcado en marcas como Audi y Volkswagen.\n"
      ]
    },
    {
      "cell_type": "markdown",
      "metadata": {
        "id": "vowJamKg64CF"
      },
      "source": [
        "### 3.4 Visualizaciones interactivas con Plotly\n",
        "\n",
        "A continuación se presentan visualizaciones interactivas diseñadas para facilitar la exploración dinámica de las relaciones entre variables. Estas herramientas permiten detectar patrones relevantes, outliers, y diferencias entre categorías de forma visual e intuitiva.\n"
      ]
    },
    {
      "cell_type": "code",
      "execution_count": null,
      "metadata": {
        "id": "6JnjA9eA-bjE"
      },
      "outputs": [],
      "source": [
        "import plotly.express as px\n",
        "import plotly.io as pio\n",
        "\n",
        "# Específicamos el tipo de renderización para vscode\n",
        "pio.renderers.default = \"vscode\"\n",
        "\n",
        "# Si se quiere para google colab o jupyter notebook cambiar por \"colab\" o \"notebook\" respectivamente"
      ]
    },
    {
      "cell_type": "code",
      "execution_count": null,
      "metadata": {
        "id": "yTlQB9NeBbeI"
      },
      "outputs": [],
      "source": [
        "# Creamos muestra aleatoria de 5000 vehículos para evitar que el gráfico colapse por exceso de puntos\n",
        "df_sample = df_vis.sample(5000, random_state=42)"
      ]
    },
    {
      "cell_type": "code",
      "execution_count": null,
      "metadata": {
        "colab": {
          "base_uri": "https://localhost:8080/",
          "height": 542
        },
        "id": "ZxjhEdGD6pSj",
        "outputId": "4abde4c7-eefd-4076-ac3c-cbaad5e3202a"
      },
      "outputs": [],
      "source": [
        "\n",
        "# Creamos un gráfico de dispersión interactivo entre precio y potencia del motor, coloreado por tipo de combustible\n",
        "fig = px.scatter(\n",
        "    df_sample,\n",
        "    x=\"engine_power\",\n",
        "    y=\"price_eur\",\n",
        "    color=\"fuel_type\",\n",
        "    hover_data=[\"maker\", \"model\", \"mileage\", \"manufacture_year\"],\n",
        "    title=\"Precio vs Potencia del Motor (coloreado por tipo de combustible)\",\n",
        "    labels={\"engine_power\": \"Potencia (kW)\", \"price_eur\": \"Precio (€)\"},\n",
        "    opacity=0.4\n",
        ")\n",
        "\n",
        "fig.show()\n"
      ]
    },
    {
      "cell_type": "markdown",
      "metadata": {
        "id": "LDrEI2EjdSNL"
      },
      "source": [
        "> Se observa que los autos con mayor potencia tienden a tener precios más altos, aunque con mucha dispersión. Los tipos de combustible predominantes son gasolina y diésel. Los autos eléctricos y a gas son escasos y se concentran en precios y potencias bajas.\n"
      ]
    },
    {
      "cell_type": "code",
      "execution_count": null,
      "metadata": {
        "colab": {
          "base_uri": "https://localhost:8080/",
          "height": 542
        },
        "id": "6W14JRBP63Lq",
        "outputId": "6f0bc360-22d8-4b7b-de2d-add8e5a2a3ef"
      },
      "outputs": [],
      "source": [
        "# Graficamos la distribución de precios por tipo de combustible\n",
        "fig = px.box(\n",
        "    df_vis[df_vis[\"fuel_type\"].isin([\"gasoline\", \"diesel\"])],\n",
        "    x=\"fuel_type\",\n",
        "    y=\"price_eur\",\n",
        "    points=\"outliers\",\n",
        "    title=\"Distribución de precios por tipo de combustible (solo gasolina y diésel)\",\n",
        "    labels={\"fuel_type\": \"Tipo de combustible\", \"price_eur\": \"Precio (€)\"}\n",
        ")\n",
        "fig.show()\n"
      ]
    },
    {
      "cell_type": "markdown",
      "metadata": {
        "id": "aOpgI_0ndYa2"
      },
      "source": [
        "> Gasolina y diésel presentan distribuciones de precios similares, aunque los vehículos diésel muestran más outliers hacia valores altos. Esto podría reflejar que algunos modelos diésel están orientados al segmento comercial o de alta gama.\n"
      ]
    },
    {
      "cell_type": "code",
      "execution_count": null,
      "metadata": {
        "colab": {
          "base_uri": "https://localhost:8080/",
          "height": 542
        },
        "id": "tiKrHzoi67ZB",
        "outputId": "e409032d-ce42-4173-fad5-241639107015"
      },
      "outputs": [],
      "source": [
        "# Graficamos la distribución de precios por tipo de transmisión\n",
        "fig = px.box(\n",
        "    df_vis,\n",
        "    x=\"transmission\",\n",
        "    y=\"price_eur\",\n",
        "    points=\"outliers\",\n",
        "    title=\"Distribución de precios por tipo de transmisión\",\n",
        "    labels={\"transmission\": \"Transmisión\", \"price_eur\": \"Precio (€)\"}\n",
        ")\n",
        "fig.show()\n"
      ]
    },
    {
      "cell_type": "markdown",
      "metadata": {
        "id": "heFK3Rqvddjj"
      },
      "source": [
        "> Los autos con transmisión automática tienen un precio mediano mayor que los manuales. Además, presentan una mayor dispersión de precios, lo que sugiere que incluyen tanto autos de lujo como recientes.\n"
      ]
    },
    {
      "cell_type": "code",
      "execution_count": null,
      "metadata": {
        "id": "ArvRYR24-z2S"
      },
      "outputs": [],
      "source": [
        "# Calculamos el precio promedio por marca (top 10)\n",
        "top_makers = df_vis[\"maker\"].value_counts().head(10).index\n",
        "avg_price = df_vis[df_vis[\"maker\"].isin(top_makers)].groupby(\"maker\")[\"price_eur\"].mean().reset_index()"
      ]
    },
    {
      "cell_type": "code",
      "execution_count": null,
      "metadata": {
        "colab": {
          "base_uri": "https://localhost:8080/",
          "height": 542
        },
        "id": "DfQ5LDZQ68cU",
        "outputId": "470e673e-0c1b-450d-b9a7-9984effff692"
      },
      "outputs": [],
      "source": [
        "# Creamos un gráfico de barras para el precio promedio por marca (top 10)\n",
        "fig = px.bar(\n",
        "    avg_price.sort_values(\"price_eur\", ascending=False),\n",
        "    x=\"maker\",\n",
        "    y=\"price_eur\",\n",
        "    title=\"Precio promedio por marca (top 10)\",\n",
        "    labels={\"price_eur\": \"Precio promedio (€)\", \"maker\": \"Marca\"}\n",
        ")\n",
        "fig.show()\n"
      ]
    },
    {
      "cell_type": "markdown",
      "metadata": {
        "id": "ScbrbHu2diqe"
      },
      "source": [
        "> Audi lidera claramente en precio promedio, lo cual es coherente con su posicionamiento como marca premium. Volkswagen y Seat también tienen valores elevados. Las marcas con menor precio promedio son Peugeot, Renault y Skoda, más asociadas a autos de gama media o económica."
      ]
    },
    {
      "cell_type": "code",
      "execution_count": null,
      "metadata": {
        "id": "DXAMG2KR69wg"
      },
      "outputs": [],
      "source": [
        "# Calculamos una nueva variable \"car_age\" que es la antigüedad del vehículo\n",
        "df_vis[\"car_age\"] = df_vis[\"date_created\"].dt.year - df_vis[\"manufacture_year\"]\n"
      ]
    },
    {
      "cell_type": "code",
      "execution_count": null,
      "metadata": {
        "colab": {
          "base_uri": "https://localhost:8080/",
          "height": 542
        },
        "collapsed": true,
        "id": "eayfg-bo6__u",
        "outputId": "d9807a1b-4c0b-4cdf-b164-06bc8c3821ea"
      },
      "outputs": [],
      "source": [
        "# Generamos un gráfico de dispersión interactivo entre precio y antigüedad del vehículo, coloreado por tipo de transmisión\n",
        "fig = px.scatter(\n",
        "    df_vis,\n",
        "    x=\"car_age\",\n",
        "    y=\"price_eur\",\n",
        "    color=\"transmission\",\n",
        "    hover_data=[\"maker\", \"model\", \"engine_power\"],\n",
        "    title=\"Precio vs Antigüedad del vehículo (coloreado por tipo de transmisión)\",\n",
        "    labels={\"car_age\": \"Años de antigüedad\", \"price_eur\": \"Precio (€)\"},\n",
        "    opacity=0.4\n",
        ")\n",
        "\n",
        "fig.show()\n"
      ]
    },
    {
      "cell_type": "markdown",
      "metadata": {
        "id": "ohdRMuNwbw8j"
      },
      "source": [
        "> Se confirma una relación inversa entre precio y antigüedad: los autos más nuevos valen más. Los automáticos predominan en los vehículos recientes, mientras que los manuales son mayoría en los modelos más antiguos.\n"
      ]
    },
    {
      "cell_type": "markdown",
      "metadata": {
        "id": "zmY2EKL8YnWc"
      },
      "source": [
        "### Visualizaciones interactivas complementarias\n",
        "\n",
        "Además de los gráficos analíticos presentados anteriormente, se incorporan a continuación tres visualizaciones sencillas e intuitivas, diseñadas para facilitar una comprensión rápida del perfil general del mercado. Estas representaciones permiten responder preguntas frecuentes de cualquier usuario, como qué tipo de combustible es más común, cuántos autos son manuales o automáticos, y qué tan antiguos son los vehículos publicados.\n"
      ]
    },
    {
      "cell_type": "code",
      "execution_count": null,
      "metadata": {
        "colab": {
          "base_uri": "https://localhost:8080/",
          "height": 542
        },
        "id": "USOQXacAZAxc",
        "outputId": "5b680e04-c1fc-4de4-8a00-1f8afee636f1"
      },
      "outputs": [],
      "source": [
        "# Visualizamos la proporción de autos por tipo de combustible usando un gráfico de torta\n",
        "fig = px.pie(\n",
        "    df_vis,\n",
        "    names=\"fuel_type\",\n",
        "    title=\"Distribución de vehículos por tipo de combustible\",\n",
        "    hole=0.4\n",
        ")\n",
        "fig.show()\n"
      ]
    },
    {
      "cell_type": "markdown",
      "metadata": {
        "id": "96pL5Q7NLq4O"
      },
      "source": [
        "> Se observa que el 81 % de los vehículos utilizan gasolina, seguido por un 17 % que utiliza diésel. Los tipos eléctricos, a gas o alternativos representan menos del 1 %. La predominancia de combustibles tradicionales es clara, lo cual es relevante al interpretar los precios o segmentar el mercado."
      ]
    },
    {
      "cell_type": "code",
      "execution_count": null,
      "metadata": {
        "colab": {
          "base_uri": "https://localhost:8080/",
          "height": 542
        },
        "id": "NZhWBcGkZHlE",
        "outputId": "0e4e2f56-dfc4-4c8f-87aa-fb56ee2b14bb"
      },
      "outputs": [],
      "source": [
        "# Visualizamos la proporción de autos por tipo de transmisión (manual vs automática)\n",
        "fig = px.pie(\n",
        "    df_vis,\n",
        "    names=\"transmission\",\n",
        "    title=\"Distribución de vehículos por tipo de transmisión\",\n",
        "    hole=0.4\n",
        ")\n",
        "fig.show()\n"
      ]
    },
    {
      "cell_type": "markdown",
      "metadata": {
        "id": "cbvxQ3DcMh12"
      },
      "source": [
        "> Se observa que más del 81 % de los autos del dataset tienen transmisión manual, frente a un 18 % con transmisión automática. Esto indica una fuerte inclinación del mercado hacia vehículos de menor costo, dado que la transmisión automática suele asociarse a gamas más altas o a preferencias específicas"
      ]
    },
    {
      "cell_type": "code",
      "execution_count": null,
      "metadata": {
        "colab": {
          "base_uri": "https://localhost:8080/",
          "height": 542
        },
        "id": "kBfLVks0ZL7j",
        "outputId": "6eec28bb-72ff-412c-c3c3-21781ce5b1f7"
      },
      "outputs": [],
      "source": [
        "# Mostramos la distribución de autos según su año de fabricación\n",
        "fig = px.histogram(\n",
        "    df_vis,\n",
        "    x=\"manufacture_year\",\n",
        "    nbins=10,\n",
        "    title=\"Distribución de vehículos según año de fabricación\",\n",
        "    labels={\"manufacture_year\": \"Año de fabricación\"}\n",
        ")\n",
        "fig.show()\n"
      ]
    },
    {
      "cell_type": "markdown",
      "metadata": {
        "id": "74npWLAeMnl4"
      },
      "source": [
        "> El histograma muestra una concentración creciente de autos fabricados entre 2000 y 2015, con un pico alrededor de 2005–2010. Esto sugiere que la mayoría de los vehículos listados son usados pero no excesivamente antiguos, lo que tiene implicancias tanto para su precio como para su estado general esperado."
      ]
    },
    {
      "cell_type": "markdown",
      "metadata": {
        "id": "yHvl6El2eXc_"
      },
      "source": [
        "## 4. Segmentación de mercado mediante Clustering (K-Means)\n",
        "\n",
        "En esta sección se aplica el algoritmo de K-Means para identificar grupos de vehículos con características similares. Esta técnica de aprendizaje no supervisado permite segmentar el mercado sin necesidad de variables objetivo.\n",
        "\n",
        "Se trabaja con variables numéricas seleccionadas por su relevancia comercial y su relación con el precio:\n",
        "\n",
        "- `engine_power` (potencia del motor)\n",
        "- `mileage` (kilometraje)\n",
        "- `car_age` (antigüedad del vehículo)\n",
        "\n",
        "Estas variables fueron previamente limpiadas y filtradas, y se normalizan antes de aplicar el algoritmo.\n"
      ]
    },
    {
      "cell_type": "code",
      "execution_count": null,
      "metadata": {
        "id": "yP1XgrqH7A3d"
      },
      "outputs": [],
      "source": [
        "from sklearn.preprocessing import StandardScaler\n",
        "from sklearn.cluster import KMeans\n",
        "from sklearn.decomposition import PCA\n",
        "\n",
        "# Usamos una muestra para reducir carga computacional\n",
        "df_cluster = df_vis[[\"engine_power\", \"mileage\", \"date_created\", \"manufacture_year\"]].dropna().copy()\n",
        "df_cluster = df_cluster.sample(5000, random_state=42)\n",
        "\n",
        "# Creamos la variable de antigüedad\n",
        "df_cluster[\"car_age\"] = df_cluster[\"date_created\"].dt.year - df_cluster[\"manufacture_year\"]\n",
        "\n",
        "# Seleccionamos variables numéricas para el clustering\n",
        "X = df_cluster[[\"engine_power\", \"mileage\", \"car_age\"]]\n",
        "\n",
        "# Normalizamos\n",
        "scaler = StandardScaler()\n",
        "X_scaled = scaler.fit_transform(X)\n"
      ]
    },
    {
      "cell_type": "code",
      "execution_count": null,
      "metadata": {
        "id": "8dI8n8BheWrX"
      },
      "outputs": [],
      "source": [
        "# Aplicamos KMeans con 4 clusters (puede ajustarse según el elbow method)\n",
        "kmeans = KMeans(n_clusters=4, random_state=42, n_init=10)\n",
        "df_cluster[\"cluster\"] = kmeans.fit_predict(X_scaled)\n"
      ]
    },
    {
      "cell_type": "code",
      "execution_count": null,
      "metadata": {
        "id": "axRK_uWzeb_4"
      },
      "outputs": [],
      "source": [
        "# Aplicamos PCA para reducción a 2D\n",
        "pca = PCA(n_components=2)\n",
        "X_pca = pca.fit_transform(X_scaled)\n",
        "\n",
        "df_cluster[\"PCA1\"] = X_pca[:, 0]\n",
        "df_cluster[\"PCA2\"] = X_pca[:, 1]\n",
        "\n",
        "\n"
      ]
    },
    {
      "cell_type": "code",
      "execution_count": null,
      "metadata": {
        "colab": {
          "base_uri": "https://localhost:8080/",
          "height": 542
        },
        "id": "C8YerzD37s46",
        "outputId": "3d6a26ec-2766-406b-a28c-6d0c668b347b"
      },
      "outputs": [],
      "source": [
        "import plotly.express as px\n",
        "\n",
        "# Creamos un gráfico interactivo\n",
        "fig = px.scatter(\n",
        "    df_cluster, x=\"PCA1\", y=\"PCA2\", color=df_cluster[\"cluster\"].astype(str),\n",
        "    hover_data=[\"engine_power\", \"mileage\", \"car_age\"],\n",
        "    title=\"Clusters de vehículos según características técnicas (K-Means + PCA)\",\n",
        "    labels={\"cluster\": \"Cluster\"}\n",
        ")\n",
        "fig.show()"
      ]
    },
    {
      "cell_type": "markdown",
      "metadata": {
        "id": "opLcydx8egHZ"
      },
      "source": [
        "> El algoritmo K-Means identificó 4 grupos distintos de vehículos según potencia, kilometraje y antigüedad. La proyección en 2D (mediante PCA) muestra que los clusters están bien diferenciados, aunque con algunas zonas de superposición.\n",
        ">\n",
        "> - Algunos clusters agrupan vehículos con **alta potencia y bajo kilometraje**, posiblemente autos nuevos de gama alta.\n",
        "> - Otros se concentran en autos con **alta antigüedad y muchos kilómetros**, más depreciados.\n",
        "> - El análisis de estos grupos puede ayudar a definir perfiles de mercado y estrategias comerciales diferenciadas.\n",
        ">\n",
        "> Se realizará un mejor análisis con un gráfico de barras a continuación.\n"
      ]
    },
    {
      "cell_type": "code",
      "execution_count": null,
      "metadata": {
        "id": "DLD2VBQ3edd9"
      },
      "outputs": [],
      "source": [
        "# Creamos un resumen de promedios por cluster y guardarlo para análisis posterior\n",
        "cluster_summary = df_cluster.groupby(\"cluster\")[[\"engine_power\", \"mileage\", \"car_age\"]].mean().reset_index()\n",
        "cluster_summary[\"cluster\"] = cluster_summary[\"cluster\"].astype(int)\n"
      ]
    },
    {
      "cell_type": "code",
      "execution_count": null,
      "metadata": {
        "id": "2JvoOk2JfBms"
      },
      "outputs": [],
      "source": [
        "# Normalizamos los promedios por variable antes de graficar (min-max scaling por columna)\n",
        "from sklearn.preprocessing import MinMaxScaler\n",
        "\n",
        "scaler = MinMaxScaler()\n",
        "cluster_scaled = cluster_summary.copy()\n",
        "cluster_scaled[[\"engine_power\", \"mileage\", \"car_age\"]] = scaler.fit_transform(\n",
        "    cluster_scaled[[\"engine_power\", \"mileage\", \"car_age\"]]\n",
        ")\n",
        "\n",
        "# Reestructuramos para visualización comparativa entre clusters\n",
        "cluster_scaled_melted = cluster_scaled.melt(\n",
        "    id_vars=\"cluster\",\n",
        "    var_name=\"variable\",\n",
        "    value_name=\"valor_normalizado\"\n",
        ")\n"
      ]
    },
    {
      "cell_type": "code",
      "execution_count": null,
      "metadata": {
        "colab": {
          "base_uri": "https://localhost:8080/",
          "height": 501
        },
        "id": "3TQz84NB_jXr",
        "outputId": "da57152c-0aae-4811-bca5-144a540fde6a"
      },
      "outputs": [],
      "source": [
        "# Creamos un gráfico de barras para la comparación de variables técnicas normalizadas por cluster\n",
        "plt.figure(figsize=(8,5))\n",
        "ax = sns.barplot(data=cluster_scaled_melted, x=\"variable\", y=\"valor_normalizado\", hue=\"cluster\")\n",
        "plt.title(\"Comparación relativa por variable dentro de cada cluster (valores normalizados)\")\n",
        "plt.ylabel(\"Valor normalizado (0–1)\")\n",
        "\n",
        "# Agregamos etiquetas numéricas para confirmar presencia de valores ocultos\n",
        "for container in ax.containers:\n",
        "    ax.bar_label(container, fmt=\"%.2f\")\n",
        "\n",
        "plt.tight_layout()\n",
        "plt.show()\n"
      ]
    },
    {
      "cell_type": "markdown",
      "metadata": {
        "id": "3-WgKWh4fG54"
      },
      "source": [
        "> **Interpretación de clusters:**\n",
        ">\n",
        "> Este gráfico permite observar de forma relativa cómo se comportan los distintos clusters en cada variable clave. Al normalizar las variables entre 0 y 1, podemos comparar su magnitud independientemente de sus unidades.\n",
        "> Es importante aclarar que los valores 0.00 y 1.00 son posiciones relativas dentro de la muestra, no valores brutos.\n",
        ">\n",
        ">  - **Cluster 0** se destaca con valores máximos de `engine_power` y bajos de `car_age`, lo que indica autos muy potentes y recientes. Además, tienen un `mileage` medio-bajo. Esto sugiere que podrían tratarse de vehículos deportivos o de alta gama.\n",
        ">\n",
        "> - **Cluster 1** tiene valores intermedios en todas las variables, pero se observa potencia baja, `engine_power` es bajo, sobretodo si lo compramos con el cluster anterior. Representa un segmento medio, probablemente autos usados estables, pero ni nuevos ni potentes.\n",
        ">\n",
        "> - **Cluster 2** presenta valores máximos en `mileage` y `car_age`, y valores mínimos en `engine_power`. Es el grupo de vehículos más antiguos y desgastados, con baja potencia. Probablemente autos económicos y en su etapa final de vida útil.\n",
        ">\n",
        "> - **Cluster 3** tiene muy baja antigüedad y kilometraje, pero `engine_power` también bajo-moderado. Se interpreta como autos nuevos, pero económicos, posiblemente compactos o de ciudad.\n"
      ]
    },
    {
      "cell_type": "markdown",
      "metadata": {
        "id": "k9K1k78Zi4Kc"
      },
      "source": [
        "## 5. Modelado predictivo del precio\n",
        "\n",
        "En esta sección se entrena un modelo supervisado para predecir el precio (`price_eur`) de un vehículo a partir de sus características técnicas.\n",
        "\n",
        "Se comparan dos modelos:\n",
        "\n",
        "- Regresión lineal (modelo base, interpretable)\n",
        "- Árbol de decisión (modelo no lineal, con capacidad para capturar relaciones más complejas)\n",
        "\n",
        "Se utilizarán las siguientes variables predictoras:\n",
        "\n",
        "- `engine_power`\n",
        "- `mileage`\n",
        "- `car_age`\n",
        "- `transmission`\n",
        "- `fuel_type`\n"
      ]
    },
    {
      "cell_type": "code",
      "execution_count": null,
      "metadata": {
        "id": "0KUBDwy9fFVd"
      },
      "outputs": [],
      "source": [
        "from sklearn.model_selection import train_test_split\n",
        "from sklearn.preprocessing import StandardScaler, OneHotEncoder\n",
        "from sklearn.compose import ColumnTransformer\n",
        "from sklearn.pipeline import Pipeline\n",
        "from sklearn.linear_model import LinearRegression\n",
        "from sklearn.tree import DecisionTreeRegressor\n",
        "from sklearn.metrics import mean_absolute_error, mean_squared_error, r2_score\n",
        "import numpy as np\n",
        "\n",
        "# Creamos una copia del dataset y eliminamos nulos\n",
        "df_model = df_vis[[\"price_eur\", \"engine_power\", \"mileage\", \"manufacture_year\", \"date_created\", \"transmission\", \"fuel_type\"]].dropna().copy()\n",
        "\n",
        "# Especificamos la variable target\n",
        "y = df_model[\"price_eur\"]\n",
        "\n",
        "# Especificamos la variable derivada: antigüedad\n",
        "df_model[\"car_age\"] = df_model[\"date_created\"].dt.year - df_model[\"manufacture_year\"]\n",
        "\n",
        "# Especificamos las variables predictoras\n",
        "X = df_model[[\"engine_power\", \"mileage\", \"car_age\", \"transmission\", \"fuel_type\"]]\n",
        "\n",
        "# Creamos la división entrenamiento-test\n",
        "X_train, X_test, y_train, y_test = train_test_split(X, y, test_size=0.2, random_state=42)\n"
      ]
    },
    {
      "cell_type": "code",
      "execution_count": null,
      "metadata": {
        "id": "5CEFVmqai6Ir"
      },
      "outputs": [],
      "source": [
        "# Definimos las columnas numéricas y categóricas del modelo\n",
        "num_cols = [\"engine_power\", \"mileage\", \"car_age\"]\n",
        "cat_cols = [\"transmission\", \"fuel_type\"]\n"
      ]
    },
    {
      "cell_type": "code",
      "execution_count": null,
      "metadata": {
        "id": "f3zBmVpTJcGp"
      },
      "outputs": [],
      "source": [
        "# Armamos el preprocesador que normaliza las numéricas y codifica las categóricas\n",
        "from sklearn.compose import ColumnTransformer\n",
        "from sklearn.preprocessing import StandardScaler, OneHotEncoder\n",
        "\n",
        "preprocessor = ColumnTransformer([\n",
        "    (\"num\", StandardScaler(), num_cols),\n",
        "    (\"cat\", OneHotEncoder(handle_unknown=\"ignore\"), cat_cols)\n",
        "])\n"
      ]
    },
    {
      "cell_type": "code",
      "execution_count": null,
      "metadata": {
        "id": "XIIlHY1uCJ1R"
      },
      "outputs": [],
      "source": [
        "from sklearn.metrics import mean_absolute_error, mean_squared_error, r2_score\n",
        "import numpy as np\n",
        "\n",
        "# Definimos la función para evaluar cualquier modelo con métricas estándar\n",
        "def evaluar(modelo, X_test, y_test, nombre=\"Modelo\"):\n",
        "    pred = modelo.predict(X_test)\n",
        "    print(f\"{nombre}\")\n",
        "    print(\" MAE :\", round(mean_absolute_error(y_test, pred), 2))\n",
        "    print(\" RMSE:\", round(np.sqrt(mean_squared_error(y_test, pred)), 2))\n",
        "    print(\" R²  :\", round(r2_score(y_test, pred), 3))\n",
        "    print(\"-\" * 30)\n"
      ]
    },
    {
      "cell_type": "code",
      "execution_count": null,
      "metadata": {
        "id": "sQiWMmxDi7sr"
      },
      "outputs": [],
      "source": [
        "from sklearn.linear_model import LinearRegression\n",
        "from sklearn.tree import DecisionTreeRegressor\n",
        "from xgboost import XGBRegressor\n",
        "\n",
        "# Definimos 3 modelos base que se usarán dentro de pipelines\n",
        "modelos = {\n",
        "    \"Regresión Lineal\": LinearRegression(),\n",
        "    \"Árbol de Decisión\": DecisionTreeRegressor(max_depth=6, random_state=42),\n",
        "    \"XGBoost\": XGBRegressor(\n",
        "        n_estimators=100,\n",
        "        max_depth=5,\n",
        "        learning_rate=0.1,\n",
        "        objective=\"reg:squarederror\",\n",
        "        random_state=42\n",
        "    )\n",
        "}\n"
      ]
    },
    {
      "cell_type": "code",
      "execution_count": null,
      "metadata": {
        "colab": {
          "base_uri": "https://localhost:8080/"
        },
        "id": "h_fDwfUGi9Ly",
        "outputId": "369bfc67-5a30-484c-f67a-2546aecdfb26"
      },
      "outputs": [],
      "source": [
        "# Entrenamos cada modelo dentro de un pipeline completo con preprocesamiento\n",
        "from sklearn.pipeline import Pipeline\n",
        "\n",
        "for nombre, modelo_base in modelos.items():\n",
        "    modelo = Pipeline([\n",
        "        (\"preprocessing\", preprocessor),\n",
        "        (\"regressor\", modelo_base)\n",
        "    ])\n",
        "    modelo.fit(X_train, y_train)\n",
        "    evaluar(modelo, X_test, y_test, nombre)\n"
      ]
    },
    {
      "cell_type": "code",
      "execution_count": null,
      "metadata": {
        "id": "1Hn74OiVjG_F"
      },
      "outputs": [],
      "source": [
        "# Creamos una lista vacía para guardar los resultados\n",
        "resultados = []\n",
        "\n",
        "# Entrenamos nuevamente y guardamos métricas para cada modelo\n",
        "for nombre, modelo_base in modelos.items():\n",
        "    modelo = Pipeline([\n",
        "        (\"preprocessing\", preprocessor),\n",
        "        (\"regressor\", modelo_base)\n",
        "    ])\n",
        "    modelo.fit(X_train, y_train)\n",
        "    pred = modelo.predict(X_test)\n",
        "\n",
        "    mae = mean_absolute_error(y_test, pred)\n",
        "    rmse = np.sqrt(mean_squared_error(y_test, pred))\n",
        "    r2 = r2_score(y_test, pred)\n",
        "\n",
        "    resultados.append({\n",
        "        \"Modelo\": nombre,\n",
        "        \"MAE\": round(mae, 2),\n",
        "        \"RMSE\": round(rmse, 2),\n",
        "        \"R²\": round(r2, 3)\n",
        "    })\n"
      ]
    },
    {
      "cell_type": "code",
      "execution_count": null,
      "metadata": {
        "colab": {
          "base_uri": "https://localhost:8080/",
          "height": 528
        },
        "id": "v7p_XprNCWBd",
        "outputId": "55126b0d-2a14-4a7d-9e30-8fc449ffbad0"
      },
      "outputs": [],
      "source": [
        "# Convertimos a DataFrame y mostramos resultados\n",
        "import pandas as pd\n",
        "import seaborn as sns\n",
        "import matplotlib.pyplot as plt\n",
        "\n",
        "df_resultados = pd.DataFrame(resultados)\n",
        "display(df_resultados)\n",
        "\n",
        "# Creamos un gráfico comparativo (R²)\n",
        "plt.figure(figsize=(7,4))\n",
        "sns.barplot(data=df_resultados, x=\"Modelo\", y=\"R²\")\n",
        "plt.title(\"Comparación de desempeño (R²)\")\n",
        "plt.ylim(0, 1)\n",
        "plt.tight_layout()\n",
        "plt.show()\n"
      ]
    },
    {
      "cell_type": "markdown",
      "metadata": {
        "id": "iEvKBamopb-Z"
      },
      "source": [
        "### Conclusión del modelado predictivo\n",
        "\n",
        "| Modelo              | MAE (↓)   | RMSE (↓)  | R² (↑)   |\n",
        "|---------------------|-----------|-----------|---------|\n",
        "| Regresión Lineal    | ~5100 €   | ~8500 €   | 0.527    |\n",
        "| Árbol de Decisión   | ~4200 €   | ~7300 €   | 0.654   |\n",
        "| **XGBoost**         | **~3600 €** | **~6569 €** | **0.715** |\n",
        "\n",
        "## Se compararon tres modelos de regresión para predecir el precio de vehículos usados a partir de características técnicas y categóricas:\n",
        "\n",
        "- **Regresión Lineal**: modelo simple e interpretable con un (R² = 0.527). Sirve como punto de referencia, pero no captura relaciones no lineales ni interacciones entre variables.\n",
        "\n",
        "- **Árbol de Decisión**: mejora sustancial en precisión (R² = 0.654), gracias a su capacidad para particionar el espacio de decisiones y adaptarse a relaciones complejas. Permite cierta interpretabilidad estructural.\n",
        "\n",
        "- **XGBoost**: modelo de boosting que combina múltiples árboles. Fue el más preciso (R² = 0.715), con el menor MAE y RMSE. Captura de manera eficiente las relaciones no lineales, combinaciones de categorías, y variaciones del mercado.\n",
        "\n",
        "---\n",
        "\n",
        "\n"
      ]
    },
    {
      "cell_type": "markdown",
      "metadata": {
        "id": "vtzhtvZssL7i"
      },
      "source": [
        "## 5.1 Aplicación del modelo a datos reales (ejemplo)\n",
        "\n",
        "Luego de evaluar los distintos modelos predictivos y seleccionar XGBoost como el más preciso, se procede a realizar un ejemplo de aplicación práctica. Esta etapa consiste en utilizar el modelo entrenado para estimar el precio de autos reales del dataset que cuentan con características completas (potencia, kilometraje, antigüedad, tipo de transmisión y combustible)."
      ]
    },
    {
      "cell_type": "code",
      "execution_count": null,
      "metadata": {
        "id": "ttxtkxCCkq1U"
      },
      "outputs": [],
      "source": [
        "# Crear pipeline XGBoost con preprocesamiento\n",
        "xgb = Pipeline([\n",
        "    (\"preprocessing\", preprocessor),\n",
        "    (\"regressor\", XGBRegressor(\n",
        "        n_estimators=100,\n",
        "        max_depth=5,\n",
        "        learning_rate=0.1,\n",
        "        objective=\"reg:squarederror\",\n",
        "        random_state=42\n",
        "    ))\n",
        "])\n"
      ]
    },
    {
      "cell_type": "code",
      "execution_count": null,
      "metadata": {
        "colab": {
          "base_uri": "https://localhost:8080/",
          "height": 676
        },
        "id": "vnx9WNeIJo2Z",
        "outputId": "f7ed58a1-e878-4147-b2bd-7e94b8fb1043"
      },
      "outputs": [],
      "source": [
        "# Entrenamos el modelo con conjunto original\n",
        "xgb.fit(X_train, y_train)  # ← asume que X_train e y_train ya están definidos\n",
        "\n",
        "# Filtramos los autos válidos con datos completos\n",
        "autos_validos = df_vis[[\"engine_power\", \"mileage\", \"manufacture_year\", \"date_created\",\n",
        "                        \"transmission\", \"fuel_type\", \"maker\", \"model\", \"price_eur\"]].dropna()\n",
        "\n",
        "# Creamos la variable car_age\n",
        "autos_validos[\"car_age\"] = autos_validos[\"date_created\"].dt.year - autos_validos[\"manufacture_year\"]\n",
        "\n",
        "# Seleccionamos los primeros 20 para mostrar\n",
        "autos_validos = autos_validos.head(20).copy()\n",
        "\n",
        "# Especificamos las variables predictoras\n",
        "X_validos = autos_validos[[\"engine_power\", \"mileage\", \"car_age\", \"transmission\", \"fuel_type\"]]\n",
        "\n",
        "# Predecimos usando el pipeline entrenado\n",
        "autos_validos[\"predicted_price\"] = xgb.predict(X_validos)\n",
        "\n",
        "# Comparamos precios\n",
        "autos_validos[[\"maker\", \"model\", \"engine_power\", \"car_age\", \"transmission\",\n",
        "               \"fuel_type\", \"price_eur\", \"predicted_price\"]]"
      ]
    },
    {
      "cell_type": "code",
      "execution_count": null,
      "metadata": {
        "colab": {
          "base_uri": "https://localhost:8080/",
          "height": 501
        },
        "id": "Dc6EDamxq1gr",
        "outputId": "55cf011a-bf59-4586-bbe6-de3f3facdba7"
      },
      "outputs": [],
      "source": [
        "# Graficamos el Precio real vs. Precio predicho\n",
        "plt.figure(figsize=(8,5))\n",
        "sns.scatterplot(data=autos_validos, x=\"price_eur\", y=\"predicted_price\")\n",
        "plt.plot([0, autos_validos[\"price_eur\"].max()], [0, autos_validos[\"price_eur\"].max()], ls=\"--\", c=\"gray\")\n",
        "plt.xlabel(\"Precio real (€)\")\n",
        "plt.ylabel(\"Precio predicho (€)\")\n",
        "plt.title(\"Comparación: Precio real vs. Precio estimado (XGBoost)\")\n",
        "plt.tight_layout()\n",
        "plt.show()\n"
      ]
    },
    {
      "cell_type": "code",
      "execution_count": null,
      "metadata": {
        "colab": {
          "base_uri": "https://localhost:8080/",
          "height": 363
        },
        "id": "RxV3VsZdu53Y",
        "outputId": "a7e1e177-4003-49ff-c1b9-e0b6bd1290f5"
      },
      "outputs": [],
      "source": [
        "# Calculamos el error absoluto para cada predicción\n",
        "autos_validos[\"error_absoluto\"] = abs(autos_validos[\"price_eur\"] - autos_validos[\"predicted_price\"])\n",
        "\n",
        "# Mostramos los 10 autos donde el modelo más se equivocó\n",
        "autos_validos.sort_values(\"error_absoluto\", ascending=False)[\n",
        "    [\"maker\", \"model\", \"engine_power\", \"car_age\", \"price_eur\", \"predicted_price\", \"error_absoluto\"]\n",
        "].head(10)\n"
      ]
    },
    {
      "cell_type": "markdown",
      "metadata": {
        "id": "kEVARZdEsS_t"
      },
      "source": [
        "### Análisis del desempeño del modelo\n",
        "\n",
        "- Podemos medir el desempeño desde línea diagonal que representa el caso ideal donde el precio estimado coincide perfectamente con el real.\n",
        "- La mayoría de los puntos están cerca de esta diagonal, lo que refleja un buen desempeño general.\n",
        "- Sin embargo, existen desvíos que se observan claramente en la tabla provista:\n",
        "  - **Subestimaciones**: como el Ford Galaxy ~10.500 € reales vs ~6.200 € estimados, o el Skoda Octavia.\n",
        "  - **Sobreestimaciones**: como el Suzuki Swift, con un precio real de ~7.400 €, pero una predicción superior a 14.000 €.\n",
        "\n",
        "---\n",
        ">\n",
        "### Conclusión\n",
        "\n",
        "El modelo XGBoost logra un desempeño sólido en la mayoría de los casos. Aunque algunos errores puntuales existen, especialmente en autos menos frecuentes o con características particulares, las predicciones son razonables y consistentes para un uso práctico. Esto valida su aplicación como herramienta de estimación automática de precios en plataformas de venta de autos usados.\n"
      ]
    }
  ],
  "metadata": {
    "colab": {
      "provenance": []
    },
    "kernelspec": {
      "display_name": "Python 3",
      "name": "python3"
    },
    "language_info": {
      "codemirror_mode": {
        "name": "ipython",
        "version": 3
      },
      "file_extension": ".py",
      "mimetype": "text/x-python",
      "name": "python",
      "nbconvert_exporter": "python",
      "pygments_lexer": "ipython3",
      "version": "3.13.1"
    }
  },
  "nbformat": 4,
  "nbformat_minor": 0
}
